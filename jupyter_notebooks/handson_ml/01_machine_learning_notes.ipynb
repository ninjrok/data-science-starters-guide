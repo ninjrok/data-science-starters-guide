{
 "cells": [
  {
   "cell_type": "markdown",
   "metadata": {},
   "source": [
    "# What is Machine Learning?\n",
    "\n",
    "Simple definition: Field of study taht gives computers the ability to learn without being explicitly programmed. -Arthur Samuel, 1959\n",
    "\n",
    "Engineering defintion: A computer program is said to learn from experience E with respect to some task T and some performance measure P, if it's performance on T, as measured by P, improves with experience E. -Tom Mitchell, 1997 "
   ]
  },
  {
   "cell_type": "markdown",
   "metadata": {},
   "source": [
    "# Why use Machine Learning?\n",
    "\n",
    "ML is great for:\n",
    "\n",
    "* Problems for which existing solutions require a lot of hand-tuning or long lists of rules: one ML algorithm can often sumplify code and perform better.\n",
    "* Complex problems for which there is no good solution at all using a traditional approach: the best ML techniques can find a solution.\n",
    "* Fluctuating environments: a ML system can adapt to new data.\n",
    "* Getting insights about complex problems and large amounts of data."
   ]
  },
  {
   "cell_type": "markdown",
   "metadata": {},
   "source": [
    "# Types of Machine Learning Systems"
   ]
  },
  {
   "cell_type": "markdown",
   "metadata": {},
   "source": [
    "ML systems maybe classified based on:\n",
    "\n",
    "* The level of supervision: Supervised, Unsupervised or reinforcement learning\n",
    "* Whether they can incrementally learn on the fly: Online vs Batch learning\n",
    "* How they compare data: Instanced-based vs model-based learning"
   ]
  },
  {
   "cell_type": "markdown",
   "metadata": {},
   "source": [
    "### Supervised Learning\n",
    "\n",
    "* k-Nearest Neighbors\n",
    "* Linear Regression\n",
    "* Logisitic Regression\n",
    "* Support Vector Machines (SVMs)\n",
    "* Decision Trees and Random Forests\n",
    "* Neural Networks (Some neural nets like autoencoders and restricted Boltzmann machines can be unsupervised)"
   ]
  },
  {
   "cell_type": "markdown",
   "metadata": {},
   "source": [
    "### Unsupervised Learning\n",
    "\n",
    "* Clustering\n",
    "    * k-Means\n",
    "    * Heirarchical Cluster Analysis (HCA)\n",
    "    * Expectation Maximization\n",
    "* Visualization and dimensionality reduction\n",
    "    * Principal Component Analysis (PCA)\n",
    "    * Kernel PCA\n",
    "    * Locally-Linear Embedding (LLE)\n",
    "    * t-distributed Stochastic Neighbor Embedding (t-SNE)\n",
    "* Associative rule learning\n",
    "    * Apriori\n",
    "    * Eclat"
   ]
  },
  {
   "cell_type": "markdown",
   "metadata": {},
   "source": [
    "### Reinforcement learning\n",
    "\n",
    "A learning system, called an agent, can observe an environment and perform an action for which it may be rewarded. The system tries to learn by itself, called a policy, which is the best strategy to get the most reward over time. The policy defines the action in a given situation. Example: Deepmind's AlphaGo."
   ]
  },
  {
   "cell_type": "markdown",
   "metadata": {},
   "source": [
    "### Batch and Online Learning\n",
    "\n",
    "In batch learning, the system is incapable of learning incrementally. It must be trained with all of the available data. This will generally take a lot of time and computational power, so it is typically performed offline.\n",
    "\n",
    "In online learning, you train the system incrementally by feeding it data instances sequentially, either individually or by small groups called mini-batches."
   ]
  }
 ],
 "metadata": {
  "kernelspec": {
   "display_name": "Python 3",
   "language": "python",
   "name": "python3"
  },
  "language_info": {
   "codemirror_mode": {
    "name": "ipython",
    "version": 3
   },
   "file_extension": ".py",
   "mimetype": "text/x-python",
   "name": "python",
   "nbconvert_exporter": "python",
   "pygments_lexer": "ipython3",
   "version": "3.6.5"
  }
 },
 "nbformat": 4,
 "nbformat_minor": 2
}
