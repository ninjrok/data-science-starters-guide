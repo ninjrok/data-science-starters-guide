{
 "cells": [
  {
   "cell_type": "code",
   "execution_count": 1,
   "metadata": {},
   "outputs": [],
   "source": [
    "import numpy as np"
   ]
  },
  {
   "cell_type": "code",
   "execution_count": 20,
   "metadata": {},
   "outputs": [
    {
     "name": "stdout",
     "output_type": "stream",
     "text": [
      "r=[ 6  3 41 90 66  5 55 46 64 51]\n",
      "cumsum=[  6   9  50 140 206 211 266 312 376 427]\n",
      "argmax = 2\n"
     ]
    }
   ],
   "source": [
    "r = np.random.randint(100, size=10)\n",
    "cumsum = np.cumsum(r)\n",
    "amax = np.argmax(cumsum >= 10)\n",
    "print('r={}'.format(r))\n",
    "print('cumsum={}'.format(cumsum))\n",
    "print('argmax = {}'.format(amax))"
   ]
  },
  {
   "cell_type": "code",
   "execution_count": null,
   "metadata": {},
   "outputs": [],
   "source": []
  }
 ],
 "metadata": {
  "kernelspec": {
   "display_name": "Python 3",
   "language": "python",
   "name": "python3"
  },
  "language_info": {
   "codemirror_mode": {
    "name": "ipython",
    "version": 3
   },
   "file_extension": ".py",
   "mimetype": "text/x-python",
   "name": "python",
   "nbconvert_exporter": "python",
   "pygments_lexer": "ipython3",
   "version": "3.6.5"
  }
 },
 "nbformat": 4,
 "nbformat_minor": 2
}
