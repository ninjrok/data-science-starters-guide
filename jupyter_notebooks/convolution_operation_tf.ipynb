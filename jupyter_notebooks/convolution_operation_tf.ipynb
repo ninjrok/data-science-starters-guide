{
 "cells": [
  {
   "cell_type": "markdown",
   "metadata": {},
   "source": [
    "# Convolution example using tf.nn.conv2d"
   ]
  },
  {
   "cell_type": "code",
   "execution_count": 15,
   "metadata": {},
   "outputs": [],
   "source": [
    "import tensorflow as tf"
   ]
  },
  {
   "cell_type": "code",
   "execution_count": 16,
   "metadata": {},
   "outputs": [],
   "source": [
    "i = tf.constant([\n",
    "    [4, 3, 1, 0],\n",
    "    [2, 1, 0, 1],\n",
    "    [1, 2, 4, 1],\n",
    "    [3, 1, 0, 2]],\n",
    "    dtype=tf.float32,\n",
    "    name='input')"
   ]
  },
  {
   "cell_type": "code",
   "execution_count": 17,
   "metadata": {},
   "outputs": [],
   "source": [
    "k = tf.constant([\n",
    "    [1, 0, 1],\n",
    "    [2, 1, 0],\n",
    "    [0, 0, 10]],\n",
    "    dtype='float32',\n",
    "    name='k')"
   ]
  },
  {
   "cell_type": "code",
   "execution_count": 18,
   "metadata": {},
   "outputs": [],
   "source": [
    "image = tf.reshape(i, [1, 4, 4, 1], name='image')\n",
    "kernel = tf.reshape(k, [3, 3, 1, 1], name='kernel')"
   ]
  },
  {
   "cell_type": "code",
   "execution_count": 19,
   "metadata": {},
   "outputs": [],
   "source": [
    "res_with_no_padding = tf.squeeze(tf.nn.conv2d(image, kernel, [1, 1, 1, 1], padding='VALID', use_cudnn_on_gpu=True))"
   ]
  },
  {
   "cell_type": "code",
   "execution_count": 20,
   "metadata": {},
   "outputs": [],
   "source": [
    "res_with_zero_padding = tf.squeeze(tf.nn.conv2d(image, kernel, [1, 1, 1, 1], padding='SAME', use_cudnn_on_gpu=True))"
   ]
  },
  {
   "cell_type": "code",
   "execution_count": 21,
   "metadata": {},
   "outputs": [
    {
     "name": "stdout",
     "output_type": "stream",
     "text": [
      "[[50. 15.]\n",
      " [ 6. 30.]]\n",
      "[[14. 11. 17.  2.]\n",
      " [25. 50. 15.  2.]\n",
      " [12.  6. 30.  9.]\n",
      " [ 5. 12.  5.  6.]]\n"
     ]
    }
   ],
   "source": [
    "with tf.Session() as sess:\n",
    "    print(sess.run(res_with_no_padding))\n",
    "    print(sess.run(res_with_zero_padding))"
   ]
  }
 ],
 "metadata": {
  "kernelspec": {
   "display_name": "Python 3",
   "language": "python",
   "name": "python3"
  },
  "language_info": {
   "codemirror_mode": {
    "name": "ipython",
    "version": 3
   },
   "file_extension": ".py",
   "mimetype": "text/x-python",
   "name": "python",
   "nbconvert_exporter": "python",
   "pygments_lexer": "ipython3",
   "version": "3.6.5"
  }
 },
 "nbformat": 4,
 "nbformat_minor": 2
}
