{
 "cells": [
  {
   "cell_type": "code",
   "execution_count": 24,
   "metadata": {},
   "outputs": [
    {
     "name": "stdout",
     "output_type": "stream",
     "text": [
      "[5 5 6 6 8 6 5 9 7 5]\n"
     ]
    }
   ],
   "source": [
    "import numpy as np\n",
    "\n",
    "x = np.random.randint(5, 10, 10)\n",
    "print(x)"
   ]
  },
  {
   "cell_type": "code",
   "execution_count": 25,
   "metadata": {},
   "outputs": [
    {
     "name": "stdout",
     "output_type": "stream",
     "text": [
      "np mean=6.2, calculated mean=6.2\n"
     ]
    }
   ],
   "source": [
    "def mean(x):\n",
    "    return np.sum(x)/len(x)\n",
    "\n",
    "print('np mean={}, calculated mean={}'.format(np.mean(x), mean(x)))"
   ]
  },
  {
   "cell_type": "code",
   "execution_count": 26,
   "metadata": {},
   "outputs": [
    {
     "name": "stdout",
     "output_type": "stream",
     "text": [
      "np variance=1.7600000000000002, calculated variance=1.7600000000000002\n"
     ]
    }
   ],
   "source": [
    "def variance(x):\n",
    "    m = mean(x)\n",
    "    sum_of_squared_diff = 0\n",
    "    for i in x:\n",
    "        sum_of_squared_diff += (i - m) ** 2\n",
    "    return sum_of_squared_diff/len(x)\n",
    "\n",
    "print('np variance={}, calculated variance={}'.format(np.var(x), variance(x)))"
   ]
  },
  {
   "cell_type": "code",
   "execution_count": 27,
   "metadata": {},
   "outputs": [
    {
     "name": "stdout",
     "output_type": "stream",
     "text": [
      "np std. dev=1.32664991614216, calculated std. dev=1.32664991614216\n"
     ]
    }
   ],
   "source": [
    "def std_dev(x):\n",
    "    return np.sqrt(variance(x))\n",
    "\n",
    "print('np std. dev={}, calculated std. dev={}'.format(np.std(x), std_dev(x)))"
   ]
  }
 ],
 "metadata": {
  "kernelspec": {
   "display_name": "Python 3",
   "language": "python",
   "name": "python3"
  },
  "language_info": {
   "codemirror_mode": {
    "name": "ipython",
    "version": 3
   },
   "file_extension": ".py",
   "mimetype": "text/x-python",
   "name": "python",
   "nbconvert_exporter": "python",
   "pygments_lexer": "ipython3",
   "version": "3.6.5"
  }
 },
 "nbformat": 4,
 "nbformat_minor": 2
}
